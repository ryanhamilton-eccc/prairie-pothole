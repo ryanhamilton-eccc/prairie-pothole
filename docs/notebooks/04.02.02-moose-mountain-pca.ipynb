{
 "cells": [
  {
   "cell_type": "code",
   "execution_count": 1,
   "id": "8327b8df-3519-4edc-b750-71329e87cbea",
   "metadata": {},
   "outputs": [],
   "source": [
    "import ee\n",
    "import geemap\n",
    "from pph import data\n",
    "from pph import compute\n",
    "from pph import datautils"
   ]
  },
  {
   "cell_type": "code",
   "execution_count": 2,
   "id": "78d55e87-29b9-44f7-bff8-71cacbb1dab3",
   "metadata": {},
   "outputs": [
    {
     "data": {
      "text/html": [
       "\n",
       "            <style>\n",
       "                .geemap-dark {\n",
       "                    --jp-widgets-color: white;\n",
       "                    --jp-widgets-label-color: white;\n",
       "                    --jp-ui-font-color1: white;\n",
       "                    --jp-layout-color2: #454545;\n",
       "                    background-color: #383838;\n",
       "                }\n",
       "\n",
       "                .geemap-dark .jupyter-button {\n",
       "                    --jp-layout-color3: #383838;\n",
       "                }\n",
       "\n",
       "                .geemap-colab {\n",
       "                    background-color: var(--colab-primary-surface-color, white);\n",
       "                }\n",
       "\n",
       "                .geemap-colab .jupyter-button {\n",
       "                    --jp-layout-color3: var(--colab-primary-surface-color, white);\n",
       "                }\n",
       "            </style>\n",
       "            "
      ],
      "text/plain": [
       "<IPython.core.display.HTML object>"
      ]
     },
     "metadata": {},
     "output_type": "display_data"
    }
   ],
   "source": [
    "ee.Initialize()"
   ]
  },
  {
   "cell_type": "markdown",
   "id": "e9e06c99-9c07-4af9-9259-f73838cb0955",
   "metadata": {},
   "source": [
    "# Fetch LandSat 8 SR Yearly Max compistes"
   ]
  },
  {
   "cell_type": "code",
   "execution_count": 3,
   "id": "710e99b2-7c77-4bcb-a11f-b30aa34b7f6c",
   "metadata": {},
   "outputs": [
    {
     "data": {
      "text/html": [
       "\n",
       "            <style>\n",
       "                .geemap-dark {\n",
       "                    --jp-widgets-color: white;\n",
       "                    --jp-widgets-label-color: white;\n",
       "                    --jp-ui-font-color1: white;\n",
       "                    --jp-layout-color2: #454545;\n",
       "                    background-color: #383838;\n",
       "                }\n",
       "\n",
       "                .geemap-dark .jupyter-button {\n",
       "                    --jp-layout-color3: #383838;\n",
       "                }\n",
       "\n",
       "                .geemap-colab {\n",
       "                    background-color: var(--colab-primary-surface-color, white);\n",
       "                }\n",
       "\n",
       "                .geemap-colab .jupyter-button {\n",
       "                    --jp-layout-color3: var(--colab-primary-surface-color, white);\n",
       "                }\n",
       "            </style>\n",
       "            "
      ],
      "text/plain": [
       "<IPython.core.display.HTML object>"
      ]
     },
     "metadata": {},
     "output_type": "display_data"
    }
   ],
   "source": [
    "selectors = 'SR_B[4-6]'\n",
    "yrly_composite, max_compsote, aoi = data.fetch_moose_mnt_yrly_composites(selectors)"
   ]
  },
  {
   "cell_type": "code",
   "execution_count": 13,
   "id": "67d0c9f0-a522-463b-89f4-8e5a4fff0a22",
   "metadata": {},
   "outputs": [
    {
     "data": {
      "text/html": [
       "\n",
       "            <style>\n",
       "                .geemap-dark {\n",
       "                    --jp-widgets-color: white;\n",
       "                    --jp-widgets-label-color: white;\n",
       "                    --jp-ui-font-color1: white;\n",
       "                    --jp-layout-color2: #454545;\n",
       "                    background-color: #383838;\n",
       "                }\n",
       "\n",
       "                .geemap-dark .jupyter-button {\n",
       "                    --jp-layout-color3: #383838;\n",
       "                }\n",
       "\n",
       "                .geemap-colab {\n",
       "                    background-color: var(--colab-primary-surface-color, white);\n",
       "                }\n",
       "\n",
       "                .geemap-colab .jupyter-button {\n",
       "                    --jp-layout-color3: var(--colab-primary-surface-color, white);\n",
       "                }\n",
       "            </style>\n",
       "            "
      ],
      "text/plain": [
       "<IPython.core.display.HTML object>"
      ]
     },
     "metadata": {},
     "output_type": "display_data"
    }
   ],
   "source": [
    "pc_regex = \"pc[1-2]\""
   ]
  },
  {
   "cell_type": "markdown",
   "id": "d5ddf050-8c96-43dc-ad16-a8966a9c7fb0",
   "metadata": {},
   "source": [
    "# PCA Band: SR_B5"
   ]
  },
  {
   "cell_type": "code",
   "execution_count": 10,
   "id": "4f98c01a-1f1a-40b9-a896-5f781139ef7b",
   "metadata": {},
   "outputs": [
    {
     "data": {
      "text/html": [
       "\n",
       "            <style>\n",
       "                .geemap-dark {\n",
       "                    --jp-widgets-color: white;\n",
       "                    --jp-widgets-label-color: white;\n",
       "                    --jp-ui-font-color1: white;\n",
       "                    --jp-layout-color2: #454545;\n",
       "                    background-color: #383838;\n",
       "                }\n",
       "\n",
       "                .geemap-dark .jupyter-button {\n",
       "                    --jp-layout-color3: #383838;\n",
       "                }\n",
       "\n",
       "                .geemap-colab {\n",
       "                    background-color: var(--colab-primary-surface-color, white);\n",
       "                }\n",
       "\n",
       "                .geemap-colab .jupyter-button {\n",
       "                    --jp-layout-color3: var(--colab-primary-surface-color, white);\n",
       "                }\n",
       "            </style>\n",
       "            "
      ],
      "text/plain": [
       "<IPython.core.display.HTML object>"
      ]
     },
     "metadata": {},
     "output_type": "display_data"
    }
   ],
   "source": [
    "sr_b5 = yrly_composite.select('SR_B5.*')\n",
    "sr_b5_max = max_compsote.select(\"SR_B5\")\n",
    "sr_b5_pca = compute.compute_pca(sr_b5, aoi).select(\"pc[1-2]\")\n",
    "\n",
    "sr_b5_out = ee.Image.cat(sr_b5_pca, sr_b5_max)"
   ]
  },
  {
   "cell_type": "code",
   "execution_count": 11,
   "id": "29b3c2ba-10f0-4cc6-bcb4-6e5b45610510",
   "metadata": {},
   "outputs": [
    {
     "data": {
      "text/html": [
       "\n",
       "            <style>\n",
       "                .geemap-dark {\n",
       "                    --jp-widgets-color: white;\n",
       "                    --jp-widgets-label-color: white;\n",
       "                    --jp-ui-font-color1: white;\n",
       "                    --jp-layout-color2: #454545;\n",
       "                    background-color: #383838;\n",
       "                }\n",
       "\n",
       "                .geemap-dark .jupyter-button {\n",
       "                    --jp-layout-color3: #383838;\n",
       "                }\n",
       "\n",
       "                .geemap-colab {\n",
       "                    background-color: var(--colab-primary-surface-color, white);\n",
       "                }\n",
       "\n",
       "                .geemap-colab .jupyter-button {\n",
       "                    --jp-layout-color3: var(--colab-primary-surface-color, white);\n",
       "                }\n",
       "            </style>\n",
       "            "
      ],
      "text/plain": [
       "<IPython.core.display.HTML object>"
      ]
     },
     "metadata": {},
     "output_type": "display_data"
    },
    {
     "data": {
      "application/vnd.jupyter.widget-view+json": {
       "model_id": "6ad9e25bb51d4a80aa417e316fb56fd8",
       "version_major": 2,
       "version_minor": 0
      },
      "text/plain": [
       "Map(center=[49.76291503423149, -102.41828841732854], controls=(WidgetControl(options=['position', 'transparent…"
      ]
     },
     "execution_count": 11,
     "metadata": {},
     "output_type": "execute_result"
    }
   ],
   "source": [
    "Map = geemap.Map()\n",
    "\n",
    "Map.addLayer(sr_b5)\n",
    "Map.addLayer(sr_b5_max)\n",
    "Map.addLayer(sr_b5_pca)\n",
    "Map.addLayer(sr_b5_out)\n",
    "Map.centerObject(aoi, 10)\n",
    "\n",
    "Map"
   ]
  },
  {
   "cell_type": "code",
   "execution_count": 12,
   "id": "ba752346-5700-4713-a0a2-f5c24985e11b",
   "metadata": {},
   "outputs": [
    {
     "data": {
      "text/html": [
       "\n",
       "            <style>\n",
       "                .geemap-dark {\n",
       "                    --jp-widgets-color: white;\n",
       "                    --jp-widgets-label-color: white;\n",
       "                    --jp-ui-font-color1: white;\n",
       "                    --jp-layout-color2: #454545;\n",
       "                    background-color: #383838;\n",
       "                }\n",
       "\n",
       "                .geemap-dark .jupyter-button {\n",
       "                    --jp-layout-color3: #383838;\n",
       "                }\n",
       "\n",
       "                .geemap-colab {\n",
       "                    background-color: var(--colab-primary-surface-color, white);\n",
       "                }\n",
       "\n",
       "                .geemap-colab .jupyter-button {\n",
       "                    --jp-layout-color3: var(--colab-primary-surface-color, white);\n",
       "                }\n",
       "            </style>\n",
       "            "
      ],
      "text/plain": [
       "<IPython.core.display.HTML object>"
      ]
     },
     "metadata": {},
     "output_type": "display_data"
    },
    {
     "name": "stdout",
     "output_type": "stream",
     "text": [
      "Task ID: H5XDWF34A65XIM6HVFERNXUE\n"
     ]
    }
   ],
   "source": [
    "sr_b5_pca_task = datautils.ee_l8_image_to_gdrive(\n",
    "    image=sr_b5_out,\n",
    "    region=aoi,\n",
    "    folder='moose-mountain-sr-b5-pc12max',\n",
    "    filename='mm-sr-b5-pc12max'\n",
    ")\n",
    "\n",
    "sr_b5_pca_task.start()\n",
    "print(f\"Task ID: {sr_b5_pca_task.id}\")"
   ]
  },
  {
   "cell_type": "markdown",
   "id": "a3d41df5-9a47-4147-bd56-13ece75c702c",
   "metadata": {},
   "source": [
    "# PCA SR_B4"
   ]
  },
  {
   "cell_type": "code",
   "execution_count": 14,
   "id": "1e3e086c-e052-4c46-be16-4df70dfb2f35",
   "metadata": {},
   "outputs": [
    {
     "data": {
      "text/html": [
       "\n",
       "            <style>\n",
       "                .geemap-dark {\n",
       "                    --jp-widgets-color: white;\n",
       "                    --jp-widgets-label-color: white;\n",
       "                    --jp-ui-font-color1: white;\n",
       "                    --jp-layout-color2: #454545;\n",
       "                    background-color: #383838;\n",
       "                }\n",
       "\n",
       "                .geemap-dark .jupyter-button {\n",
       "                    --jp-layout-color3: #383838;\n",
       "                }\n",
       "\n",
       "                .geemap-colab {\n",
       "                    background-color: var(--colab-primary-surface-color, white);\n",
       "                }\n",
       "\n",
       "                .geemap-colab .jupyter-button {\n",
       "                    --jp-layout-color3: var(--colab-primary-surface-color, white);\n",
       "                }\n",
       "            </style>\n",
       "            "
      ],
      "text/plain": [
       "<IPython.core.display.HTML object>"
      ]
     },
     "metadata": {},
     "output_type": "display_data"
    }
   ],
   "source": [
    "sr_b4 = yrly_composite.select('SR_B4.*')\n",
    "sr_b4_max = max_compsote.select(\"SR_B4\")\n",
    "sr_b4_pca = compute.compute_pca(sr_b4, aoi).select(\"pc[1-2]\")\n",
    "\n",
    "sr_b4_out = ee.Image.cat(sr_b4_pca, sr_b4_max)"
   ]
  },
  {
   "cell_type": "code",
   "execution_count": 15,
   "id": "bd30769d-2cbe-4e4a-9848-bc262d392818",
   "metadata": {},
   "outputs": [
    {
     "data": {
      "text/html": [
       "\n",
       "            <style>\n",
       "                .geemap-dark {\n",
       "                    --jp-widgets-color: white;\n",
       "                    --jp-widgets-label-color: white;\n",
       "                    --jp-ui-font-color1: white;\n",
       "                    --jp-layout-color2: #454545;\n",
       "                    background-color: #383838;\n",
       "                }\n",
       "\n",
       "                .geemap-dark .jupyter-button {\n",
       "                    --jp-layout-color3: #383838;\n",
       "                }\n",
       "\n",
       "                .geemap-colab {\n",
       "                    background-color: var(--colab-primary-surface-color, white);\n",
       "                }\n",
       "\n",
       "                .geemap-colab .jupyter-button {\n",
       "                    --jp-layout-color3: var(--colab-primary-surface-color, white);\n",
       "                }\n",
       "            </style>\n",
       "            "
      ],
      "text/plain": [
       "<IPython.core.display.HTML object>"
      ]
     },
     "metadata": {},
     "output_type": "display_data"
    },
    {
     "data": {
      "application/vnd.jupyter.widget-view+json": {
       "model_id": "e9423bc0a3584da69d751dbfc7e0df53",
       "version_major": 2,
       "version_minor": 0
      },
      "text/plain": [
       "Map(center=[49.76291503423149, -102.41828841732854], controls=(WidgetControl(options=['position', 'transparent…"
      ]
     },
     "execution_count": 15,
     "metadata": {},
     "output_type": "execute_result"
    }
   ],
   "source": [
    "Map = geemap.Map()\n",
    "\n",
    "Map.addLayer(sr_b4)\n",
    "Map.addLayer(sr_b4_max)\n",
    "Map.addLayer(sr_b4_pca)\n",
    "Map.addLayer(sr_b4_out)\n",
    "Map.centerObject(aoi, 10)\n",
    "\n",
    "Map"
   ]
  },
  {
   "cell_type": "code",
   "execution_count": 16,
   "id": "fcf6e4a0-1cb8-40bb-b360-b8e4ca34933c",
   "metadata": {},
   "outputs": [
    {
     "data": {
      "text/html": [
       "\n",
       "            <style>\n",
       "                .geemap-dark {\n",
       "                    --jp-widgets-color: white;\n",
       "                    --jp-widgets-label-color: white;\n",
       "                    --jp-ui-font-color1: white;\n",
       "                    --jp-layout-color2: #454545;\n",
       "                    background-color: #383838;\n",
       "                }\n",
       "\n",
       "                .geemap-dark .jupyter-button {\n",
       "                    --jp-layout-color3: #383838;\n",
       "                }\n",
       "\n",
       "                .geemap-colab {\n",
       "                    background-color: var(--colab-primary-surface-color, white);\n",
       "                }\n",
       "\n",
       "                .geemap-colab .jupyter-button {\n",
       "                    --jp-layout-color3: var(--colab-primary-surface-color, white);\n",
       "                }\n",
       "            </style>\n",
       "            "
      ],
      "text/plain": [
       "<IPython.core.display.HTML object>"
      ]
     },
     "metadata": {},
     "output_type": "display_data"
    },
    {
     "name": "stdout",
     "output_type": "stream",
     "text": [
      "Task ID: 7IWPLSWXTJPLHLUF7R3YEPVQ\n"
     ]
    }
   ],
   "source": [
    "sr_b4_pca_task = datautils.ee_l8_image_to_gdrive(\n",
    "    image=sr_b4_out,\n",
    "    region=aoi,\n",
    "    folder='moose-mountain-sr-b4-pc12max',\n",
    "    filename='mm-sr-b4-pc12max'\n",
    ")\n",
    "\n",
    "sr_b4_pca_task.start()\n",
    "print(f\"Task ID: {sr_b4_pca_task.id}\")"
   ]
  },
  {
   "cell_type": "markdown",
   "id": "92a0b00d-1547-45e3-afbf-45988f7f1a2b",
   "metadata": {},
   "source": [
    "# PCA SR B6"
   ]
  },
  {
   "cell_type": "code",
   "execution_count": 19,
   "id": "1475cd77-3d10-4b6f-b2c7-d472e13fa409",
   "metadata": {},
   "outputs": [
    {
     "data": {
      "text/html": [
       "\n",
       "            <style>\n",
       "                .geemap-dark {\n",
       "                    --jp-widgets-color: white;\n",
       "                    --jp-widgets-label-color: white;\n",
       "                    --jp-ui-font-color1: white;\n",
       "                    --jp-layout-color2: #454545;\n",
       "                    background-color: #383838;\n",
       "                }\n",
       "\n",
       "                .geemap-dark .jupyter-button {\n",
       "                    --jp-layout-color3: #383838;\n",
       "                }\n",
       "\n",
       "                .geemap-colab {\n",
       "                    background-color: var(--colab-primary-surface-color, white);\n",
       "                }\n",
       "\n",
       "                .geemap-colab .jupyter-button {\n",
       "                    --jp-layout-color3: var(--colab-primary-surface-color, white);\n",
       "                }\n",
       "            </style>\n",
       "            "
      ],
      "text/plain": [
       "<IPython.core.display.HTML object>"
      ]
     },
     "metadata": {},
     "output_type": "display_data"
    }
   ],
   "source": [
    "sr_b6 = yrly_composite.select('SR_B6.*')\n",
    "sr_b6_max = max_compsote.select(\"SR_B6\")\n",
    "sr_b6_pca = compute.compute_pca(sr_b5, aoi).select(\"pc[1-2]\")\n",
    "\n",
    "sr_b6_out = ee.Image.cat(sr_b6_pca, sr_b6_max)\n"
   ]
  },
  {
   "cell_type": "code",
   "execution_count": 20,
   "id": "8e6ecde2-db7d-45e1-b36a-01a09677dc7b",
   "metadata": {},
   "outputs": [
    {
     "data": {
      "text/html": [
       "\n",
       "            <style>\n",
       "                .geemap-dark {\n",
       "                    --jp-widgets-color: white;\n",
       "                    --jp-widgets-label-color: white;\n",
       "                    --jp-ui-font-color1: white;\n",
       "                    --jp-layout-color2: #454545;\n",
       "                    background-color: #383838;\n",
       "                }\n",
       "\n",
       "                .geemap-dark .jupyter-button {\n",
       "                    --jp-layout-color3: #383838;\n",
       "                }\n",
       "\n",
       "                .geemap-colab {\n",
       "                    background-color: var(--colab-primary-surface-color, white);\n",
       "                }\n",
       "\n",
       "                .geemap-colab .jupyter-button {\n",
       "                    --jp-layout-color3: var(--colab-primary-surface-color, white);\n",
       "                }\n",
       "            </style>\n",
       "            "
      ],
      "text/plain": [
       "<IPython.core.display.HTML object>"
      ]
     },
     "metadata": {},
     "output_type": "display_data"
    },
    {
     "data": {
      "application/vnd.jupyter.widget-view+json": {
       "model_id": "18ef8b31a6a34e718cf5eec443e3c2aa",
       "version_major": 2,
       "version_minor": 0
      },
      "text/plain": [
       "Map(center=[49.76291503423149, -102.41828841732854], controls=(WidgetControl(options=['position', 'transparent…"
      ]
     },
     "execution_count": 20,
     "metadata": {},
     "output_type": "execute_result"
    }
   ],
   "source": [
    "Map = geemap.Map()\n",
    "\n",
    "Map.addLayer(sr_b6)\n",
    "Map.addLayer(sr_b6_max)\n",
    "Map.addLayer(sr_b6_pca)\n",
    "Map.addLayer(sr_b6_out)\n",
    "Map.centerObject(aoi, 10)\n",
    "\n",
    "Map"
   ]
  },
  {
   "cell_type": "code",
   "execution_count": 21,
   "id": "1b161c51-4b83-436c-9a91-b575725822f9",
   "metadata": {},
   "outputs": [
    {
     "data": {
      "text/html": [
       "\n",
       "            <style>\n",
       "                .geemap-dark {\n",
       "                    --jp-widgets-color: white;\n",
       "                    --jp-widgets-label-color: white;\n",
       "                    --jp-ui-font-color1: white;\n",
       "                    --jp-layout-color2: #454545;\n",
       "                    background-color: #383838;\n",
       "                }\n",
       "\n",
       "                .geemap-dark .jupyter-button {\n",
       "                    --jp-layout-color3: #383838;\n",
       "                }\n",
       "\n",
       "                .geemap-colab {\n",
       "                    background-color: var(--colab-primary-surface-color, white);\n",
       "                }\n",
       "\n",
       "                .geemap-colab .jupyter-button {\n",
       "                    --jp-layout-color3: var(--colab-primary-surface-color, white);\n",
       "                }\n",
       "            </style>\n",
       "            "
      ],
      "text/plain": [
       "<IPython.core.display.HTML object>"
      ]
     },
     "metadata": {},
     "output_type": "display_data"
    },
    {
     "name": "stdout",
     "output_type": "stream",
     "text": [
      "Task ID: D2NZKE4OBAK6JVDYFFPH2ICD\n"
     ]
    }
   ],
   "source": [
    "sr_b6_pca_task = datautils.ee_l8_image_to_gdrive(\n",
    "    image=sr_b6_out,\n",
    "    region=aoi,\n",
    "    folder='moose-mountain-sr-b6-pc12max',\n",
    "    filename='mm-sr-b6-pc12max'\n",
    ")\n",
    "\n",
    "sr_b6_pca_task.start()\n",
    "print(f\"Task ID: {sr_b6_pca_task.id}\")"
   ]
  },
  {
   "cell_type": "code",
   "execution_count": null,
   "id": "36c0b90e-d848-46c0-ad54-fcf527eca21b",
   "metadata": {},
   "outputs": [],
   "source": []
  }
 ],
 "metadata": {
  "kernelspec": {
   "display_name": "Python 3 (ipykernel)",
   "language": "python",
   "name": "python3"
  },
  "language_info": {
   "codemirror_mode": {
    "name": "ipython",
    "version": 3
   },
   "file_extension": ".py",
   "mimetype": "text/x-python",
   "name": "python",
   "nbconvert_exporter": "python",
   "pygments_lexer": "ipython3",
   "version": "3.11.9"
  }
 },
 "nbformat": 4,
 "nbformat_minor": 5
}
