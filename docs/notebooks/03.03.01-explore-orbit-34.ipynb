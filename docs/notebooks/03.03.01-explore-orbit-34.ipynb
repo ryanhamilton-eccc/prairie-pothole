{
 "cells": [
  {
   "cell_type": "code",
   "execution_count": 1,
   "id": "b48b3cdf-f467-40c6-a14f-af592c57ea1a",
   "metadata": {},
   "outputs": [],
   "source": [
    "import ee\n",
    "import geopandas as gpd\n",
    "import pandas as pd\n",
    "\n",
    "from pph import fpcde"
   ]
  },
  {
   "cell_type": "code",
   "execution_count": 2,
   "id": "6e40a742-2a84-4540-ace2-0224d06ef40d",
   "metadata": {},
   "outputs": [],
   "source": [
    "ee.Initialize()"
   ]
  },
  {
   "cell_type": "code",
   "execution_count": 3,
   "id": "ea001483-2166-4924-a74f-6fd2b30fbee2",
   "metadata": {},
   "outputs": [],
   "source": [
    "TARGET_ORBIT = 34"
   ]
  },
  {
   "cell_type": "code",
   "execution_count": 4,
   "id": "d986920a-14a6-47af-9987-c24ac946fd5c",
   "metadata": {},
   "outputs": [],
   "source": [
    "aoi_filename = \"../data/pph_region.shp\"\n",
    "gdf_aoi = gpd.read_file(aoi_filename)\n",
    "gdf_aoi.to_crs(4326, inplace=True)\n",
    "\n",
    "ee_aoi = ee.FeatureCollection(gdf_aoi.__geo_interface__).geometry()"
   ]
  },
  {
   "cell_type": "code",
   "execution_count": 5,
   "id": "163a8358-23de-4b86-b1e6-22a7f27026b6",
   "metadata": {},
   "outputs": [],
   "source": [
    "q_date = [(f\"{date}-04-01\", f\"{date}-10-31\" ) for date in range(2017, 2022)]"
   ]
  },
  {
   "cell_type": "code",
   "execution_count": 6,
   "id": "a70afd87-3aff-48b7-a3ff-24720dc17767",
   "metadata": {},
   "outputs": [],
   "source": [
    "gdfs = [\n",
    "    fpcde.Sentinel1Extractor().extract_and_process(ee_aoi, date)\n",
    "    for date in q_date\n",
    "]\n"
   ]
  },
  {
   "cell_type": "code",
   "execution_count": 18,
   "id": "80fd6f50-3c74-4201-9d1f-4d01ed27c798",
   "metadata": {},
   "outputs": [],
   "source": [
    "gdf = pd.concat(gdfs)"
   ]
  },
  {
   "cell_type": "code",
   "execution_count": 19,
   "id": "35c548e5-06be-4073-8cb2-6da147250a60",
   "metadata": {},
   "outputs": [],
   "source": [
    "gdf = gdf[gdf['relativeOrbitNumber_start'] == TARGET_ORBIT]"
   ]
  },
  {
   "cell_type": "code",
   "execution_count": 20,
   "id": "386706b1-661a-4873-86c7-9d6e6008d508",
   "metadata": {},
   "outputs": [
    {
     "data": {
      "text/plain": [
       "array([48.14, 49.63, 49.64, 51.13, 52.63, 52.6 ])"
      ]
     },
     "execution_count": 20,
     "metadata": {},
     "output_type": "execute_result"
    }
   ],
   "source": [
    "# unique y:\n",
    "gdf.y.unique()"
   ]
  },
  {
   "cell_type": "code",
   "execution_count": 21,
   "id": "daa84c4b-9593-4965-811f-fe819e994b3e",
   "metadata": {},
   "outputs": [],
   "source": [
    "# 52.2 not in the target\n",
    "# want 52.17\n",
    "target_y = [49.63, 49.64]\n",
    "\n",
    "gdf = gdf[gdf.y.isin(target_y)]\n",
    "\n",
    "cols = [_ for _ in list(gdf.columns) if _ != 'geometry']\n",
    "gdf = gdf[cols]\n",
    "\n",
    "file_name = f\"../reports/orbit_{TARGET_ORBIT}_{'_'.join(list(map(str, target_y)))}.csv\"\n"
   ]
  },
  {
   "cell_type": "code",
   "execution_count": 22,
   "id": "85a50fac-9799-447d-8106-d72049abbe51",
   "metadata": {},
   "outputs": [],
   "source": [
    "pd.DataFrame(gdf).to_csv(file_name)"
   ]
  },
  {
   "cell_type": "code",
   "execution_count": null,
   "id": "cc2f0a4a-e043-4406-bd28-aa1d2af381f3",
   "metadata": {},
   "outputs": [],
   "source": []
  }
 ],
 "metadata": {
  "kernelspec": {
   "display_name": "Python 3 (ipykernel)",
   "language": "python",
   "name": "python3"
  },
  "language_info": {
   "codemirror_mode": {
    "name": "ipython",
    "version": 3
   },
   "file_extension": ".py",
   "mimetype": "text/x-python",
   "name": "python",
   "nbconvert_exporter": "python",
   "pygments_lexer": "ipython3",
   "version": "3.11.9"
  }
 },
 "nbformat": 4,
 "nbformat_minor": 5
}
