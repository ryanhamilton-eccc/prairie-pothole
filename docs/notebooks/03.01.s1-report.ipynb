{
 "cells": [
  {
   "cell_type": "code",
   "execution_count": 1,
   "id": "4d27d255-157e-4157-b611-e1683ddbe2ee",
   "metadata": {},
   "outputs": [],
   "source": [
    "import ee\n",
    "import geopandas as gpd\n",
    "import pandas as pd\n",
    "\n",
    "from pph import fpcde"
   ]
  },
  {
   "cell_type": "code",
   "execution_count": 2,
   "id": "6e8cf041-c7fb-4819-b743-12c2a4a69e5e",
   "metadata": {},
   "outputs": [],
   "source": [
    "ee.Initialize()"
   ]
  },
  {
   "cell_type": "code",
   "execution_count": 3,
   "id": "5486b3c5-f34d-4dfe-93a1-3d1c9cee5936",
   "metadata": {},
   "outputs": [],
   "source": [
    "# load aoi\n",
    "\n",
    "aoi_filename = \"../data/pph_region.shp\"\n",
    "gdf_aoi = gpd.read_file(aoi_filename)\n",
    "gdf_aoi.to_crs(4326, inplace=True)"
   ]
  },
  {
   "cell_type": "code",
   "execution_count": 4,
   "id": "888e127e-2dd4-4329-8fca-a91d8e6eef8a",
   "metadata": {},
   "outputs": [],
   "source": [
    "ee_aoi = ee.FeatureCollection(gdf_aoi.__geo_interface__).geometry()\n"
   ]
  },
  {
   "cell_type": "code",
   "execution_count": 5,
   "id": "5cfab945-d25c-4fc2-8da4-450bcfedbab1",
   "metadata": {},
   "outputs": [],
   "source": [
    "q_date = [(f\"{date}-04-01\", f\"{date}-10-31\" ) for date in range(2017, 2022)]"
   ]
  },
  {
   "cell_type": "code",
   "execution_count": 6,
   "id": "0aafdd06-2e5b-4e1d-a29e-9cf51db0df5e",
   "metadata": {},
   "outputs": [],
   "source": [
    "gdfs = [\n",
    "    fpcde.Sentinel1Extractor().extract_and_process(ee_aoi, date)\n",
    "    for date in q_date\n",
    "]\n"
   ]
  },
  {
   "cell_type": "code",
   "execution_count": 7,
   "id": "cd869852-189e-4074-8edc-860b44ef57b6",
   "metadata": {},
   "outputs": [],
   "source": [
    "gdf = pd.concat(gdfs)"
   ]
  },
  {
   "cell_type": "code",
   "execution_count": 8,
   "id": "bf38e453-1a52-489b-ba36-0570141e80d2",
   "metadata": {},
   "outputs": [
    {
     "data": {
      "text/html": [
       "<div>\n",
       "<style scoped>\n",
       "    .dataframe tbody tr th:only-of-type {\n",
       "        vertical-align: middle;\n",
       "    }\n",
       "\n",
       "    .dataframe tbody tr th {\n",
       "        vertical-align: top;\n",
       "    }\n",
       "\n",
       "    .dataframe thead th {\n",
       "        text-align: right;\n",
       "    }\n",
       "</style>\n",
       "<table border=\"1\" class=\"dataframe\">\n",
       "  <thead>\n",
       "    <tr style=\"text-align: right;\">\n",
       "      <th></th>\n",
       "      <th>system:id</th>\n",
       "      <th>y</th>\n",
       "      <th>relativeOrbitNumber_start</th>\n",
       "      <th>timestamp</th>\n",
       "      <th>year</th>\n",
       "      <th>datedif</th>\n",
       "      <th>geometry</th>\n",
       "    </tr>\n",
       "  </thead>\n",
       "  <tbody>\n",
       "    <tr>\n",
       "      <th>0</th>\n",
       "      <td>COPERNICUS/S1_GRD/S1B_IW_GRDH_1SDV_20170507T00...</td>\n",
       "      <td>48.14</td>\n",
       "      <td>34</td>\n",
       "      <td>2017-05-07 00:30:50+00:00</td>\n",
       "      <td>2017</td>\n",
       "      <td>0.0</td>\n",
       "      <td>POLYGON ((-102.03187 48.68886, -102.07167 48.6...</td>\n",
       "    </tr>\n",
       "    <tr>\n",
       "      <th>1</th>\n",
       "      <td>COPERNICUS/S1_GRD/S1B_IW_GRDH_1SDV_20170519T00...</td>\n",
       "      <td>48.14</td>\n",
       "      <td>34</td>\n",
       "      <td>2017-05-19 00:30:51.180000067+00:00</td>\n",
       "      <td>2017</td>\n",
       "      <td>12.0</td>\n",
       "      <td>POLYGON ((-100.76387 48.84669, -101.28481 48.7...</td>\n",
       "    </tr>\n",
       "    <tr>\n",
       "      <th>2</th>\n",
       "      <td>COPERNICUS/S1_GRD/S1B_IW_GRDH_1SDV_20170531T00...</td>\n",
       "      <td>48.14</td>\n",
       "      <td>34</td>\n",
       "      <td>2017-05-31 00:30:51+00:00</td>\n",
       "      <td>2017</td>\n",
       "      <td>12.0</td>\n",
       "      <td>POLYGON ((-102.06913 48.68386, -102.07073 48.6...</td>\n",
       "    </tr>\n",
       "    <tr>\n",
       "      <th>3</th>\n",
       "      <td>COPERNICUS/S1_GRD/S1B_IW_GRDH_1SDV_20170612T00...</td>\n",
       "      <td>48.14</td>\n",
       "      <td>34</td>\n",
       "      <td>2017-06-12 00:30:52+00:00</td>\n",
       "      <td>2017</td>\n",
       "      <td>12.0</td>\n",
       "      <td>POLYGON ((-100.98248 48.82052, -101.37099 48.7...</td>\n",
       "    </tr>\n",
       "    <tr>\n",
       "      <th>4</th>\n",
       "      <td>COPERNICUS/S1_GRD/S1B_IW_GRDH_1SDV_20170624T00...</td>\n",
       "      <td>48.14</td>\n",
       "      <td>34</td>\n",
       "      <td>2017-06-24 00:30:53+00:00</td>\n",
       "      <td>2017</td>\n",
       "      <td>12.0</td>\n",
       "      <td>POLYGON ((-101.62279 47.18758, -101.62012 47.1...</td>\n",
       "    </tr>\n",
       "    <tr>\n",
       "      <th>...</th>\n",
       "      <td>...</td>\n",
       "      <td>...</td>\n",
       "      <td>...</td>\n",
       "      <td>...</td>\n",
       "      <td>...</td>\n",
       "      <td>...</td>\n",
       "      <td>...</td>\n",
       "    </tr>\n",
       "    <tr>\n",
       "      <th>623</th>\n",
       "      <td>COPERNICUS/S1_GRD/S1B_IW_GRDH_1SDV_20210903T01...</td>\n",
       "      <td>54.47</td>\n",
       "      <td>151</td>\n",
       "      <td>2021-09-03 01:06:02+00:00</td>\n",
       "      <td>2021</td>\n",
       "      <td>12.0</td>\n",
       "      <td>POLYGON ((-108.10141 53.90354, -108.09230 53.9...</td>\n",
       "    </tr>\n",
       "    <tr>\n",
       "      <th>624</th>\n",
       "      <td>COPERNICUS/S1_GRD/S1B_IW_GRDH_1SDV_20210915T01...</td>\n",
       "      <td>54.47</td>\n",
       "      <td>151</td>\n",
       "      <td>2021-09-15 01:06:03+00:00</td>\n",
       "      <td>2021</td>\n",
       "      <td>12.0</td>\n",
       "      <td>POLYGON ((-111.82958 53.51132, -111.71219 53.5...</td>\n",
       "    </tr>\n",
       "    <tr>\n",
       "      <th>625</th>\n",
       "      <td>COPERNICUS/S1_GRD/S1B_IW_GRDH_1SDV_20210927T01...</td>\n",
       "      <td>54.47</td>\n",
       "      <td>151</td>\n",
       "      <td>2021-09-27 01:06:03+00:00</td>\n",
       "      <td>2021</td>\n",
       "      <td>12.0</td>\n",
       "      <td>POLYGON ((-110.70006 53.64320, -109.41427 53.7...</td>\n",
       "    </tr>\n",
       "    <tr>\n",
       "      <th>626</th>\n",
       "      <td>COPERNICUS/S1_GRD/S1B_IW_GRDH_1SDV_20211009T01...</td>\n",
       "      <td>54.47</td>\n",
       "      <td>151</td>\n",
       "      <td>2021-10-09 01:06:03+00:00</td>\n",
       "      <td>2021</td>\n",
       "      <td>12.0</td>\n",
       "      <td>POLYGON ((-108.09156 53.90436, -108.09147 53.9...</td>\n",
       "    </tr>\n",
       "    <tr>\n",
       "      <th>627</th>\n",
       "      <td>COPERNICUS/S1_GRD/S1B_IW_GRDH_1SDV_20211021T01...</td>\n",
       "      <td>54.47</td>\n",
       "      <td>151</td>\n",
       "      <td>2021-10-21 01:06:04+00:00</td>\n",
       "      <td>2021</td>\n",
       "      <td>12.0</td>\n",
       "      <td>POLYGON ((-108.09151 53.90458, -108.09186 53.9...</td>\n",
       "    </tr>\n",
       "  </tbody>\n",
       "</table>\n",
       "<p>2965 rows × 7 columns</p>\n",
       "</div>"
      ],
      "text/plain": [
       "                                             system:id      y  \\\n",
       "0    COPERNICUS/S1_GRD/S1B_IW_GRDH_1SDV_20170507T00...  48.14   \n",
       "1    COPERNICUS/S1_GRD/S1B_IW_GRDH_1SDV_20170519T00...  48.14   \n",
       "2    COPERNICUS/S1_GRD/S1B_IW_GRDH_1SDV_20170531T00...  48.14   \n",
       "3    COPERNICUS/S1_GRD/S1B_IW_GRDH_1SDV_20170612T00...  48.14   \n",
       "4    COPERNICUS/S1_GRD/S1B_IW_GRDH_1SDV_20170624T00...  48.14   \n",
       "..                                                 ...    ...   \n",
       "623  COPERNICUS/S1_GRD/S1B_IW_GRDH_1SDV_20210903T01...  54.47   \n",
       "624  COPERNICUS/S1_GRD/S1B_IW_GRDH_1SDV_20210915T01...  54.47   \n",
       "625  COPERNICUS/S1_GRD/S1B_IW_GRDH_1SDV_20210927T01...  54.47   \n",
       "626  COPERNICUS/S1_GRD/S1B_IW_GRDH_1SDV_20211009T01...  54.47   \n",
       "627  COPERNICUS/S1_GRD/S1B_IW_GRDH_1SDV_20211021T01...  54.47   \n",
       "\n",
       "     relativeOrbitNumber_start                            timestamp  year  \\\n",
       "0                           34            2017-05-07 00:30:50+00:00  2017   \n",
       "1                           34  2017-05-19 00:30:51.180000067+00:00  2017   \n",
       "2                           34            2017-05-31 00:30:51+00:00  2017   \n",
       "3                           34            2017-06-12 00:30:52+00:00  2017   \n",
       "4                           34            2017-06-24 00:30:53+00:00  2017   \n",
       "..                         ...                                  ...   ...   \n",
       "623                        151            2021-09-03 01:06:02+00:00  2021   \n",
       "624                        151            2021-09-15 01:06:03+00:00  2021   \n",
       "625                        151            2021-09-27 01:06:03+00:00  2021   \n",
       "626                        151            2021-10-09 01:06:03+00:00  2021   \n",
       "627                        151            2021-10-21 01:06:04+00:00  2021   \n",
       "\n",
       "     datedif                                           geometry  \n",
       "0        0.0  POLYGON ((-102.03187 48.68886, -102.07167 48.6...  \n",
       "1       12.0  POLYGON ((-100.76387 48.84669, -101.28481 48.7...  \n",
       "2       12.0  POLYGON ((-102.06913 48.68386, -102.07073 48.6...  \n",
       "3       12.0  POLYGON ((-100.98248 48.82052, -101.37099 48.7...  \n",
       "4       12.0  POLYGON ((-101.62279 47.18758, -101.62012 47.1...  \n",
       "..       ...                                                ...  \n",
       "623     12.0  POLYGON ((-108.10141 53.90354, -108.09230 53.9...  \n",
       "624     12.0  POLYGON ((-111.82958 53.51132, -111.71219 53.5...  \n",
       "625     12.0  POLYGON ((-110.70006 53.64320, -109.41427 53.7...  \n",
       "626     12.0  POLYGON ((-108.09156 53.90436, -108.09147 53.9...  \n",
       "627     12.0  POLYGON ((-108.09151 53.90458, -108.09186 53.9...  \n",
       "\n",
       "[2965 rows x 7 columns]"
      ]
     },
     "execution_count": 8,
     "metadata": {},
     "output_type": "execute_result"
    }
   ],
   "source": [
    "gdf"
   ]
  },
  {
   "cell_type": "code",
   "execution_count": 9,
   "id": "1b978d07-7bed-4014-bc35-96a6172d957a",
   "metadata": {},
   "outputs": [
    {
     "name": "stderr",
     "output_type": "stream",
     "text": [
      "C:\\Users\\rhamilton\\AppData\\Local\\Temp\\ipykernel_10940\\505241805.py:1: UserWarning: Column names longer than 10 characters will be truncated when saved to ESRI Shapefile.\n",
      "  gdf.to_file(\"../data/pph_s1_report.shp\")\n"
     ]
    }
   ],
   "source": [
    "gdf.to_file(\"../data/pph_s1_report.shp\")"
   ]
  },
  {
   "cell_type": "code",
   "execution_count": null,
   "id": "f65ffb2c-7e1f-4c12-b201-b1fd1815fed2",
   "metadata": {},
   "outputs": [],
   "source": []
  }
 ],
 "metadata": {
  "kernelspec": {
   "display_name": "Python 3 (ipykernel)",
   "language": "python",
   "name": "python3"
  },
  "language_info": {
   "codemirror_mode": {
    "name": "ipython",
    "version": 3
   },
   "file_extension": ".py",
   "mimetype": "text/x-python",
   "name": "python",
   "nbconvert_exporter": "python",
   "pygments_lexer": "ipython3",
   "version": "3.11.9"
  }
 },
 "nbformat": 4,
 "nbformat_minor": 5
}
