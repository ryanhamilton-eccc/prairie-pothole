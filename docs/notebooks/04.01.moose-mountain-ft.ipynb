{
 "cells": [
  {
   "cell_type": "code",
   "execution_count": 1,
   "id": "cd99104e-568b-41c7-b19c-42741bae557c",
   "metadata": {},
   "outputs": [],
   "source": [
    "import ee\n",
    "import geemap\n",
    "import geopandas as gpd\n",
    "import geeft\n",
    "import geersd"
   ]
  },
  {
   "cell_type": "code",
   "execution_count": 3,
   "id": "b4581044-d2d9-4a94-b459-fc41645fd904",
   "metadata": {},
   "outputs": [
    {
     "data": {
      "text/html": [
       "\n",
       "            <style>\n",
       "                .geemap-dark {\n",
       "                    --jp-widgets-color: white;\n",
       "                    --jp-widgets-label-color: white;\n",
       "                    --jp-ui-font-color1: white;\n",
       "                    --jp-layout-color2: #454545;\n",
       "                    background-color: #383838;\n",
       "                }\n",
       "\n",
       "                .geemap-dark .jupyter-button {\n",
       "                    --jp-layout-color3: #383838;\n",
       "                }\n",
       "\n",
       "                .geemap-colab {\n",
       "                    background-color: var(--colab-primary-surface-color, white);\n",
       "                }\n",
       "\n",
       "                .geemap-colab .jupyter-button {\n",
       "                    --jp-layout-color3: var(--colab-primary-surface-color, white);\n",
       "                }\n",
       "            </style>\n",
       "            "
      ],
      "text/plain": [
       "<IPython.core.display.HTML object>"
      ]
     },
     "metadata": {},
     "output_type": "display_data"
    }
   ],
   "source": [
    "ee.Initialize()"
   ]
  },
  {
   "cell_type": "code",
   "execution_count": 4,
   "id": "fe4029b4-738f-4565-92bf-51b298e29f02",
   "metadata": {},
   "outputs": [
    {
     "data": {
      "text/html": [
       "\n",
       "            <style>\n",
       "                .geemap-dark {\n",
       "                    --jp-widgets-color: white;\n",
       "                    --jp-widgets-label-color: white;\n",
       "                    --jp-ui-font-color1: white;\n",
       "                    --jp-layout-color2: #454545;\n",
       "                    background-color: #383838;\n",
       "                }\n",
       "\n",
       "                .geemap-dark .jupyter-button {\n",
       "                    --jp-layout-color3: #383838;\n",
       "                }\n",
       "\n",
       "                .geemap-colab {\n",
       "                    background-color: var(--colab-primary-surface-color, white);\n",
       "                }\n",
       "\n",
       "                .geemap-colab .jupyter-button {\n",
       "                    --jp-layout-color3: var(--colab-primary-surface-color, white);\n",
       "                }\n",
       "            </style>\n",
       "            "
      ],
      "text/plain": [
       "<IPython.core.display.HTML object>"
      ]
     },
     "metadata": {},
     "output_type": "display_data"
    }
   ],
   "source": [
    "gdf_roi = gpd.read_file(\"../../scratch/moose_mountain_FT_OPC_analysis_AOI_7year_L8.shp\")\n",
    "gdf_roi.set_crs(4326, inplace=True)\n",
    "aoi = ee.FeatureCollection(gdf_roi.__geo_interface__).geometry()"
   ]
  },
  {
   "cell_type": "code",
   "execution_count": 5,
   "id": "fda32a7f-b258-43c9-8558-fe556716770e",
   "metadata": {},
   "outputs": [
    {
     "data": {
      "text/html": [
       "\n",
       "            <style>\n",
       "                .geemap-dark {\n",
       "                    --jp-widgets-color: white;\n",
       "                    --jp-widgets-label-color: white;\n",
       "                    --jp-ui-font-color1: white;\n",
       "                    --jp-layout-color2: #454545;\n",
       "                    background-color: #383838;\n",
       "                }\n",
       "\n",
       "                .geemap-dark .jupyter-button {\n",
       "                    --jp-layout-color3: #383838;\n",
       "                }\n",
       "\n",
       "                .geemap-colab {\n",
       "                    background-color: var(--colab-primary-surface-color, white);\n",
       "                }\n",
       "\n",
       "                .geemap-colab .jupyter-button {\n",
       "                    --jp-layout-color3: var(--colab-primary-surface-color, white);\n",
       "                }\n",
       "            </style>\n",
       "            "
      ],
      "text/plain": [
       "<IPython.core.display.HTML object>"
      ]
     },
     "metadata": {},
     "output_type": "display_data"
    }
   ],
   "source": [
    "dataset = geersd.Landsat8SR().filterDate(\"2017\", \"2024\").filterBounds(aoi).applyScalingFactor().applyCloudMask()"
   ]
  },
  {
   "cell_type": "code",
   "execution_count": 6,
   "id": "c66b3f84-0f58-4c96-9f79-bdb661b2cd77",
   "metadata": {},
   "outputs": [
    {
     "data": {
      "text/html": [
       "\n",
       "            <style>\n",
       "                .geemap-dark {\n",
       "                    --jp-widgets-color: white;\n",
       "                    --jp-widgets-label-color: white;\n",
       "                    --jp-ui-font-color1: white;\n",
       "                    --jp-layout-color2: #454545;\n",
       "                    background-color: #383838;\n",
       "                }\n",
       "\n",
       "                .geemap-dark .jupyter-button {\n",
       "                    --jp-layout-color3: #383838;\n",
       "                }\n",
       "\n",
       "                .geemap-colab {\n",
       "                    background-color: var(--colab-primary-surface-color, white);\n",
       "                }\n",
       "\n",
       "                .geemap-colab .jupyter-button {\n",
       "                    --jp-layout-color3: var(--colab-primary-surface-color, white);\n",
       "                }\n",
       "            </style>\n",
       "            "
      ],
      "text/plain": [
       "<IPython.core.display.HTML object>"
      ]
     },
     "metadata": {},
     "output_type": "display_data"
    }
   ],
   "source": [
    "ft = geeft.compute(dataset, \"SR_B5\", 2)"
   ]
  },
  {
   "cell_type": "code",
   "execution_count": 7,
   "id": "843d83e1-40e7-4480-af04-5ce0be32a0a5",
   "metadata": {},
   "outputs": [
    {
     "data": {
      "text/html": [
       "\n",
       "            <style>\n",
       "                .geemap-dark {\n",
       "                    --jp-widgets-color: white;\n",
       "                    --jp-widgets-label-color: white;\n",
       "                    --jp-ui-font-color1: white;\n",
       "                    --jp-layout-color2: #454545;\n",
       "                    background-color: #383838;\n",
       "                }\n",
       "\n",
       "                .geemap-dark .jupyter-button {\n",
       "                    --jp-layout-color3: #383838;\n",
       "                }\n",
       "\n",
       "                .geemap-colab {\n",
       "                    background-color: var(--colab-primary-surface-color, white);\n",
       "                }\n",
       "\n",
       "                .geemap-colab .jupyter-button {\n",
       "                    --jp-layout-color3: var(--colab-primary-surface-color, white);\n",
       "                }\n",
       "            </style>\n",
       "            "
      ],
      "text/plain": [
       "<IPython.core.display.HTML object>"
      ]
     },
     "metadata": {},
     "output_type": "display_data"
    },
    {
     "data": {
      "application/vnd.jupyter.widget-view+json": {
       "model_id": "75f959d4eb9a4d28a782f085efb955c6",
       "version_major": 2,
       "version_minor": 0
      },
      "text/plain": [
       "Map(center=[49.76291503423149, -102.41828841732854], controls=(WidgetControl(options=['position', 'transparent…"
      ]
     },
     "execution_count": 7,
     "metadata": {},
     "output_type": "execute_result"
    }
   ],
   "source": [
    "Map = geemap.Map()\n",
    "\n",
    "Map.addLayer(ft.clip(aoi))\n",
    "Map.centerObject(aoi, 10)\n",
    "\n",
    "Map"
   ]
  },
  {
   "cell_type": "code",
   "execution_count": 9,
   "id": "fb353d5f-885e-478d-b7e0-236b710396f6",
   "metadata": {},
   "outputs": [
    {
     "data": {
      "text/html": [
       "\n",
       "            <style>\n",
       "                .geemap-dark {\n",
       "                    --jp-widgets-color: white;\n",
       "                    --jp-widgets-label-color: white;\n",
       "                    --jp-ui-font-color1: white;\n",
       "                    --jp-layout-color2: #454545;\n",
       "                    background-color: #383838;\n",
       "                }\n",
       "\n",
       "                .geemap-dark .jupyter-button {\n",
       "                    --jp-layout-color3: #383838;\n",
       "                }\n",
       "\n",
       "                .geemap-colab {\n",
       "                    background-color: var(--colab-primary-surface-color, white);\n",
       "                }\n",
       "\n",
       "                .geemap-colab .jupyter-button {\n",
       "                    --jp-layout-color3: var(--colab-primary-surface-color, white);\n",
       "                }\n",
       "            </style>\n",
       "            "
      ],
      "text/plain": [
       "<IPython.core.display.HTML object>"
      ]
     },
     "metadata": {},
     "output_type": "display_data"
    }
   ],
   "source": [
    "task = ee.batch.Export.image.toDrive(\n",
    "    image=ft.clip(aoi),\n",
    "    region=aoi,\n",
    "    scale=30,\n",
    "    folder='moose-mountain-ft',\n",
    "    description=\"moose-mountain-ft\",\n",
    "    crs='EPSG:4326',\n",
    "    maxPixels=1e13,\n",
    "    skipEmptyTiles=True\n",
    ")\n",
    "\n",
    "task.start()"
   ]
  },
  {
   "cell_type": "code",
   "execution_count": 8,
   "id": "62d8e3c0-b83e-45ad-8a6f-3340c67bab70",
   "metadata": {},
   "outputs": [
    {
     "data": {
      "text/html": [
       "\n",
       "            <style>\n",
       "                .geemap-dark {\n",
       "                    --jp-widgets-color: white;\n",
       "                    --jp-widgets-label-color: white;\n",
       "                    --jp-ui-font-color1: white;\n",
       "                    --jp-layout-color2: #454545;\n",
       "                    background-color: #383838;\n",
       "                }\n",
       "\n",
       "                .geemap-dark .jupyter-button {\n",
       "                    --jp-layout-color3: #383838;\n",
       "                }\n",
       "\n",
       "                .geemap-colab {\n",
       "                    background-color: var(--colab-primary-surface-color, white);\n",
       "                }\n",
       "\n",
       "                .geemap-colab .jupyter-button {\n",
       "                    --jp-layout-color3: var(--colab-primary-surface-color, white);\n",
       "                }\n",
       "            </style>\n",
       "            "
      ],
      "text/plain": [
       "<IPython.core.display.HTML object>"
      ]
     },
     "metadata": {},
     "output_type": "display_data"
    },
    {
     "name": "stdout",
     "output_type": "stream",
     "text": [
      "Help on function toDrive in module ee.batch:\n",
      "\n",
      "toDrive(image, description='myExportImageTask', folder=None, fileNamePrefix=None, dimensions=None, region=None, scale=None, crs=None, crsTransform=None, maxPixels=None, shardSize=None, fileDimensions=None, skipEmptyTiles=None, fileFormat=None, formatOptions=None, priority=None, **kwargs)\n",
      "    Creates a task to export an EE Image to Drive.\n",
      "    \n",
      "    Args:\n",
      "      image: The image to be exported.\n",
      "      description: Human-readable name of the task.\n",
      "      folder: The name of a unique folder in your Drive account to export\n",
      "        into. Defaults to the root of the drive.\n",
      "      fileNamePrefix: The Google Drive filename for the export. Defaults to\n",
      "        the name of the task.\n",
      "      dimensions: The dimensions of the exported image. Takes either a single\n",
      "        positive integer as the maximum dimension or \"WIDTHxHEIGHT\" where\n",
      "        WIDTH and HEIGHT are each positive integers.\n",
      "      region: The lon,lat coordinates for a LinearRing or Polygon specifying\n",
      "        the region to export. Can be specified as a nested lists of numbers or\n",
      "        a serialized string. Defaults to the image's region.\n",
      "      scale: The resolution in meters per pixel. Defaults to the native\n",
      "        resolution of the image asset unless a crsTransform is specified.\n",
      "      crs: The coordinate reference system of the exported image's projection.\n",
      "        Defaults to the image's default projection.\n",
      "      crsTransform: A comma-separated string of 6 numbers describing the\n",
      "        affine transform of the coordinate reference system of the exported\n",
      "        image's projection, in the order: xScale, xShearing, xTranslation,\n",
      "        yShearing, yScale and yTranslation. Defaults to the image's native CRS\n",
      "        transform.\n",
      "      maxPixels: The maximum allowed number of pixels in the exported image.\n",
      "        The task will fail if the exported region covers more pixels in the\n",
      "        specified projection. Defaults to 100,000,000.\n",
      "      shardSize: Size in pixels of the tiles in which this image will be\n",
      "        computed. Defaults to 256.\n",
      "      fileDimensions: The dimensions in pixels of each image file, if the\n",
      "        image is too large to fit in a single file. May specify a single\n",
      "        number to indicate a square shape, or a tuple of two dimensions to\n",
      "        indicate (width,height). Note that the image will still be clipped to\n",
      "        the overall image dimensions. Must be a multiple of shardSize.\n",
      "      skipEmptyTiles: If true, skip writing empty (i.e. fully-masked) image\n",
      "        tiles. Defaults to false. Only supported on GeoTIFF exports.\n",
      "      fileFormat: The string file format to which the image is exported.\n",
      "        Currently only 'GeoTIFF' and 'TFRecord' are supported, defaults to\n",
      "        'GeoTIFF'.\n",
      "      formatOptions: A dictionary of string keys to format-specific options.\n",
      "        For 'GeoTIFF': 'cloudOptimized' (bool), 'noData' (float).\n",
      "      priority: The priority of the task within the project. Higher priority\n",
      "        tasks are scheduled sooner. Must be an integer between 0 and 9999.\n",
      "        Defaults to 100.\n",
      "      **kwargs: Holds other keyword arguments that may have been deprecated\n",
      "        such as 'crs_transform', 'driveFolder', and 'driveFileNamePrefix'.\n",
      "    \n",
      "    Returns:\n",
      "      An unstarted Task that exports the image to Drive.\n",
      "\n"
     ]
    }
   ],
   "source": [
    "help(ee.batch.Export.image.toDrive)"
   ]
  },
  {
   "cell_type": "code",
   "execution_count": null,
   "id": "d62e786d-031d-4224-af67-2535b019cfa1",
   "metadata": {},
   "outputs": [],
   "source": []
  }
 ],
 "metadata": {
  "kernelspec": {
   "display_name": "Python 3 (ipykernel)",
   "language": "python",
   "name": "python3"
  },
  "language_info": {
   "codemirror_mode": {
    "name": "ipython",
    "version": 3
   },
   "file_extension": ".py",
   "mimetype": "text/x-python",
   "name": "python",
   "nbconvert_exporter": "python",
   "pygments_lexer": "ipython3",
   "version": "3.11.9"
  }
 },
 "nbformat": 4,
 "nbformat_minor": 5
}
